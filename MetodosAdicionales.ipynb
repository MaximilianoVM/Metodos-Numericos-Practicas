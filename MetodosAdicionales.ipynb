{
  "cells": [
    {
      "cell_type": "markdown",
      "metadata": {
        "id": "ChzZ2VQgb0bR"
      },
      "source": [
        "<h1>Metodos adicionales para busqueda de raices</h1>\n",
        "<p>A continuacion, mostraremos algunos metodos adicionales como el metodo de Steffensen, Delta cuadrada de Aitken y sus versiones mejoradas.</p>"
      ]
    },
    {
      "cell_type": "markdown",
      "metadata": {
        "id": "sbKy6B-7b-yE"
      },
      "source": [
        "<h2>Metodo de Steffensen</h2>"
      ]
    },
    {
      "cell_type": "markdown",
      "metadata": {
        "id": "iKjMq2klaYU6"
      },
      "source": [
        "<p>Importamos las librerias necesarias.</p>"
      ]
    },
    {
      "cell_type": "code",
      "execution_count": 1,
      "metadata": {
        "id": "_wROrRcRdM0X"
      },
      "outputs": [],
      "source": [
        "import matplotlib as mpl\n",
        "import matplotlib.pyplot as plt\n",
        "import numpy as np\n",
        "import math"
      ]
    },
    {
      "cell_type": "markdown",
      "metadata": {
        "id": "-7tDGZfYafrK"
      },
      "source": [
        "<p>Definimos la funcion a utilizar y las variables globales.</p>\n",
        "\n",
        "\n",
        "*   **p0:** Valor inicial.\n",
        "*   **tol:** Valor correspondiente a la tolerancia para el criterio de parada del algoritmo.\n",
        "*   **N:** Numero maximo de iteraciones permitidas.\n",
        "\n"
      ]
    },
    {
      "cell_type": "code",
      "execution_count": 2,
      "metadata": {
        "id": "QtTV2wFbaiN5"
      },
      "outputs": [],
      "source": [
        "def g(x):\n",
        "    return (10 / x + 4) ** (1/2)\n",
        "\n",
        "p0 = 1.5\n",
        "tol = 0.0000000001\n",
        "N = 500"
      ]
    },
    {
      "cell_type": "markdown",
      "metadata": {
        "id": "wXKHHkA3a3Gi"
      },
      "source": [
        "<p>Definimos la funcion que determinara la convergencia despues de n iteraciones y el valor al que converge. De no converger, retornara un mensaje de error.</p>"
      ]
    },
    {
      "cell_type": "code",
      "execution_count": 3,
      "metadata": {
        "id": "kIlh-7K5dUVi"
      },
      "outputs": [],
      "source": [
        "def steffensen(p0, tol, N):\n",
        "  i = 1\n",
        "  while i <= N:\n",
        "    p1 = g(p0)\n",
        "    p2 = g(p1)\n",
        "    p = p0 - ((p1 - p0)**2 / (p2 - 2*p1 + p0))\n",
        "    if abs(p - p0) < tol:\n",
        "      print(\"Converge despues de %d iteraciones.\"%i)\n",
        "      return p\n",
        "    i = i + 1\n",
        "    p0 = p\n",
        "  print(\"Fallo en converger en %d iteraciones\" %N)\n",
        "  return p\n"
      ]
    },
    {
      "cell_type": "markdown",
      "metadata": {
        "id": "nxDhlSMubUMD"
      },
      "source": [
        "<h2>Ejecuciones para el metodo de Steffensen</h2>"
      ]
    },
    {
      "cell_type": "code",
      "execution_count": 4,
      "metadata": {
        "colab": {
          "base_uri": "https://localhost:8080/"
        },
        "id": "hpxw97JRZ-XN",
        "outputId": "bb1a323d-26eb-4745-95c5-63703e48955b"
      },
      "outputs": [
        {
          "name": "stdout",
          "output_type": "stream",
          "text": [
            "Converge despues de 4 iteraciones.\n",
            "El valor es: 2.760818\n"
          ]
        }
      ],
      "source": [
        "answer = steffensen(p0, tol, N)\n",
        "print(\"El valor es: %f\" %answer)"
      ]
    }
  ],
  "metadata": {
    "colab": {
      "provenance": []
    },
    "kernelspec": {
      "display_name": "Python 3.11.0 64-bit",
      "language": "python",
      "name": "python3"
    },
    "language_info": {
      "codemirror_mode": {
        "name": "ipython",
        "version": 3
      },
      "file_extension": ".py",
      "mimetype": "text/x-python",
      "name": "python",
      "nbconvert_exporter": "python",
      "pygments_lexer": "ipython3",
      "version": "3.11.0 (main, Oct 24 2022, 18:26:48) [MSC v.1933 64 bit (AMD64)]"
    },
    "vscode": {
      "interpreter": {
        "hash": "5238573367df39f7286bb46f9ff5f08f63a01a80960060ce41e3c79b190280fa"
      }
    }
  },
  "nbformat": 4,
  "nbformat_minor": 0
}
