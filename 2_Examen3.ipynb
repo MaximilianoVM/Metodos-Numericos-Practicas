{
 "cells": [
  {
   "cell_type": "markdown",
   "metadata": {},
   "source": [
    "<h2>////------[Metodo de Lagrange]------////</h2>\n",
    "Sea P_3 un polinomio interpolante de Lagrange que pasa por los puntos: <br>\n",
    "(0,0) <br>\n",
    "(0.5,<b>y</b>) <br>\n",
    "(1,3) <br>\n",
    "(2,2) <br>\n",
    "determinar el valor de <b>y</b> si el coeficiente de x^3 en P_3 es 6. Vas a escribir explicitamente los polinomios en su forma reducida L_3,k y P_3"
   ]
  },
  {
   "cell_type": "code",
   "execution_count": null,
   "metadata": {},
   "outputs": [],
   "source": []
  }
 ],
 "metadata": {
  "kernelspec": {
   "display_name": "Python 3.11.0 64-bit",
   "language": "python",
   "name": "python3"
  },
  "language_info": {
   "name": "python",
   "version": "3.11.0"
  },
  "orig_nbformat": 4,
  "vscode": {
   "interpreter": {
    "hash": "5238573367df39f7286bb46f9ff5f08f63a01a80960060ce41e3c79b190280fa"
   }
  }
 },
 "nbformat": 4,
 "nbformat_minor": 2
}
