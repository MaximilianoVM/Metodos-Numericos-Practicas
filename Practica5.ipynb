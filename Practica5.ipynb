{
 "cells": [
  {
   "cell_type": "markdown",
   "metadata": {
    "id": "Zy9AZKosd2Fe"
   },
   "source": [
    "<h1>Practica 5: Metodo de Lagrange, Neville y diferencias divididas de Newton</h1>\n",
    "\n",
    "<p>A continuacion, se desarrollaran los metodos de Lagrange y Neville con el lenguaje de Python, basandose en los pseudocodigos pertinentes al algoritmo de cada metodo.</p>"
   ]
  },
  {
   "cell_type": "markdown",
   "metadata": {
    "id": "5BT8rzypeyLT"
   },
   "source": [
    "<h2>////------[Metodo de Lagrange]------////</h2>"
   ]
  },
  {
   "cell_type": "code",
   "execution_count": 7,
   "metadata": {},
   "outputs": [],
   "source": [
    "from tabulate import tabulate as tab"
   ]
  },
  {
   "cell_type": "code",
   "execution_count": 8,
   "metadata": {
    "id": "mei7sOAcfOLB"
   },
   "outputs": [
    {
     "name": "stdout",
     "output_type": "stream",
     "text": [
      "La aproximacion de f( 0.41 ) es -5.4931775380497045\n"
     ]
    }
   ],
   "source": [
    "#Metodo de Lagrange (Implementacion en Python)\n",
    "import numpy as np\n",
    "#Datos de entrada\n",
    "xi = np.array([0.0, 0.1, 0.3, 0.6, 1.0, 1.1])\n",
    "fi = np.array([-6.00000, -5.89483, -5.65014, -5.17788, -4.28172, -3.99583])\n",
    "\n",
    "def lagrange(x, y, x_valor):\n",
    "    n = x.size\n",
    "    y_valor = 0\n",
    "\n",
    "    for i in range(0, n):\n",
    "        p = y[i]\n",
    "        for j in range(0, n):\n",
    "            if i != j:\n",
    "                p = p * (x_valor - x[j]) / (x[i] - x[j])\n",
    "        y_valor = y_valor + p\n",
    "    print (\"La aproximacion de f(\", x_valor, \") es\", y_valor)\n",
    "    return\n",
    "\n",
    "#Respuesta método de LaGrange\n",
    "lagrange(xi, fi, 0.41)"
   ]
  },
  {
   "cell_type": "markdown",
   "metadata": {
    "id": "dd8XvTQ1e_Ws"
   },
   "source": [
    "<h2>////------[Metodo de Neville]------////</h2>"
   ]
  },
  {
   "cell_type": "markdown",
   "metadata": {
    "id": "tzP5GoifgrJj"
   },
   "source": [
    "**Algoritmo** Neville(x[n])\n",
    "\n",
    "1.   **Para** i = 1 **hasta** n **hacer**\n",
    "2.   &nbsp;&nbsp;&nbsp;&nbsp;**Para** j = 1 **hasta** n **hacer**\n",
    "3.   &nbsp;&nbsp;&nbsp;&nbsp;&nbsp;&nbsp;&nbsp;&nbsp;**Calcular** Q[i][j] = ((x - x[i - j])Q[i][j - 1] - (x - x[i])Q[i - 1][j - 1]) / x[i] - x[i - j]\n",
    "4.   **Retorna** Q\n",
    "\n",
    "**Fin algoritmo**"
   ]
  },
  {
   "cell_type": "code",
   "execution_count": 9,
   "metadata": {
    "id": "L47C-CXsdxyR"
   },
   "outputs": [
    {
     "name": "stdout",
     "output_type": "stream",
     "text": [
      "╒══════════╤══════════╤══════════╤══════════╤══════════╤══════════╕\n",
      "│ -6       │  0       │  0       │  0       │  0       │  0       │\n",
      "├──────────┼──────────┼──────────┼──────────┼──────────┼──────────┤\n",
      "│ -5.89483 │ -5.5688  │  0       │  0       │  0       │  0       │\n",
      "├──────────┼──────────┼──────────┼──────────┼──────────┼──────────┤\n",
      "│ -5.65014 │ -5.51556 │ -5.49604 │  0       │  0       │  0       │\n",
      "├──────────┼──────────┼──────────┼──────────┼──────────┼──────────┤\n",
      "│ -5.17788 │ -5.47698 │ -5.49164 │ -5.49303 │  0       │  0       │\n",
      "├──────────┼──────────┼──────────┼──────────┼──────────┼──────────┤\n",
      "│ -4.28172 │ -5.60356 │ -5.49687 │ -5.49344 │ -5.4932  │  0       │\n",
      "├──────────┼──────────┼──────────┼──────────┼──────────┼──────────┤\n",
      "│ -3.99583 │ -5.96847 │ -5.46489 │ -5.49247 │ -5.49314 │ -5.49318 │\n",
      "╘══════════╧══════════╧══════════╧══════════╧══════════╧══════════╛\n",
      "El valor aproximado para f( 0.41 ) es -5.493177538049704\n"
     ]
    }
   ],
   "source": [
    "#Metodo de Neville (Implementacion en Python)\n",
    "import numpy as np\n",
    "import pandas as pd\n",
    "\n",
    "#Datos de entrada\n",
    "xi = np.array([0.0, 0.1, 0.3, 0.6, 1.0, 1.1])\n",
    "fi = np.array([-6.00000, -5.89483, -5.65014, -5.17788, -4.28172, -3.99583])\n",
    "\n",
    "#Datos auxiliares\n",
    "def neville(x, y, x_valor):\n",
    "    global df\n",
    "    n = x.size\n",
    "    q = np.zeros((n, n-1))\n",
    "    \n",
    "    # valores iniciales de y en la primera columna de la matriz\n",
    "    q = np.concatenate((y[:, None], q), axis=1)\n",
    "    # operaciones\n",
    "    for i in range(1, n):\n",
    "        for j in range(1, i + 1):\n",
    "            q[i, j] = ((x_valor - x[i - j]) * q[i, j - 1] -\n",
    "                       (x_valor - x[i]) * q[i - 1, j - 1]) / (x[i] - x[i - j])\n",
    "            res = q[i, j]\n",
    "    print(tab(q,tablefmt=\"fancy_grid\"))\n",
    "    print (\"El valor aproximado para f(\", x_valor, \") es\", res)\n",
    "    return\n",
    "\n",
    "#Impresion de respuesta método de Neville\n",
    "neville(xi,fi,0.41)"
   ]
  },
  {
   "cell_type": "code",
   "execution_count": 10,
   "metadata": {},
   "outputs": [
    {
     "name": "stdout",
     "output_type": "stream",
     "text": [
      "El valor aproximado para f( 0.41 ) es -5.493177538049703\n",
      "╒═════╤══════════╤═════════╤══════════╤══════════╤═══════════╤═══════════╕\n",
      "│ 0   │ -6       │ 0       │ 0        │ 0        │ 0         │ 0         │\n",
      "├─────┼──────────┼─────────┼──────────┼──────────┼───────────┼───────────┤\n",
      "│ 0.1 │ -5.89483 │ 1.0517  │ 0        │ 0        │ 0         │ 0         │\n",
      "├─────┼──────────┼─────────┼──────────┼──────────┼───────────┼───────────┤\n",
      "│ 0.3 │ -5.65014 │ 1.22345 │ 0.5725   │ 0        │ 0         │ 0         │\n",
      "├─────┼──────────┼─────────┼──────────┼──────────┼───────────┼───────────┤\n",
      "│ 0.6 │ -5.17788 │ 1.5742  │ 0.7015   │ 0.215    │ 0         │ 0         │\n",
      "├─────┼──────────┼─────────┼──────────┼──────────┼───────────┼───────────┤\n",
      "│ 1   │ -4.28172 │ 2.2404  │ 0.951714 │ 0.278016 │ 0.0630159 │ 0         │\n",
      "├─────┼──────────┼─────────┼──────────┼──────────┼───────────┼───────────┤\n",
      "│ 1.1 │ -3.99583 │ 2.8589  │ 1.237    │ 0.356607 │ 0.0785913 │ 0.0141595 │\n",
      "╘═════╧══════════╧═════════╧══════════╧══════════╧═══════════╧═══════════╛\n"
     ]
    }
   ],
   "source": [
    "#Calculo de la aproximación de diferencias progresivas de Newton\n",
    "#Librerias\n",
    "import pandas as pd\n",
    "import numpy as np\n",
    "#Datos de entrada\n",
    "xi = [0.0, 0.1, 0.3, 0.6, 1.0, 1.1]\n",
    "fxi =[-6.00000, -5.89483, -5.65014, -5.17788, -4.28172, -3.99583]\n",
    "#Variables para el desarrollo de la logica\n",
    "dif = [xi, fxi]\n",
    "aux = []\n",
    "coeficientes = [fxi[0]]\n",
    "datosTabla = []\n",
    "columnas = [\"xi\", \"f(xi)\"]\n",
    "#Calculando las diferencias progresivas (coeficientes)\n",
    "def matrizDifProg():\n",
    "    #Creamos una matriz de ceros de tamaño nxn\n",
    "    for i in range(1, len(xi)):\n",
    "        for j in range(0, len(xi)):\n",
    "            aux.append(0)\n",
    "        dif.append(aux.copy())\n",
    "        aux.clear()\n",
    "    global coeficientes\n",
    "    paso = 0\n",
    "    for i in range(2, len(xi)+1):\n",
    "        paso+=1\n",
    "        firstElement = True\n",
    "        for j in range(i-1, len(xi)):\n",
    "            num = (dif[i-1][j] - dif[i-1][j-1])\n",
    "            den = xi[j] - xi[j-paso]\n",
    "            dif[i][j] = num/den\n",
    "            if (firstElement):\n",
    "                columnas.append(\"==\")\n",
    "                coeficientes.append(num/den)\n",
    "                firstElement = False\n",
    "#Usando los coeficientes obtenidos para obtener la aproximacion             \n",
    "def aproxDifProg(x):\n",
    "    global coeficientes\n",
    "    global df\n",
    "    matrizDifProg()\n",
    "    auxPol = 1\n",
    "    aproximacion = coeficientes[0]\n",
    "    for i in range(1, len(xi)):\n",
    "        auxPol = auxPol*(x-xi[i-1])\n",
    "        aproximacion+= auxPol*coeficientes[i]\n",
    "    df = pd.DataFrame(np.transpose(dif), columns = columnas)\n",
    "\n",
    "    print (\"El valor aproximado para f(\",  x,  \") es\", aproximacion)\n",
    "\n",
    "#Impresion de resultados método de diferencias progresivas de Newton\n",
    "aproxDifProg(0.41)\n",
    "print(tab(np.transpose(dif),tablefmt=\"fancy_grid\"))"
   ]
  },
  {
   "cell_type": "code",
   "execution_count": 11,
   "metadata": {},
   "outputs": [],
   "source": [
    "from tabulate import tabulate as tab\n",
    "import numpy as np\n",
    "from sympy import *\n",
    "import matplotlib.pyplot as plt\n",
    "import math\n",
    "from cProfile import label\n",
    "\n",
    "def func(x):\n",
    "    return (x*np.cos(x) - 2*x**2 + 3*x - 1)\n",
    "xi = [0.1,0.2,0.3,0.4]\n",
    "#f = \"np.sin(x)\"\n",
    "fi = [-0.62049958,-0.28398668,0.00660095,0.24842440]                 #usar evaluar(f,xi) cuando no es hermite\n",
    "d = [3.58502082,3.14033271,2.66668043,2.16529366]                                         #derivadas\n",
    "x = 0.25\n",
    "\n",
    "class Metodos:\n",
    "    def __init__(self,x,y,a,d):\n",
    "        self.x=x\n",
    "        self.y=y\n",
    "        self.a=a\n",
    "        self.d=d\n",
    "\n",
    "    def tables(self, arreglo):                        #(necesario para Hermite)\n",
    "        valores = []\n",
    "        for i in arreglo:\n",
    "            for j in range(2):\n",
    "                valores.append(i)\n",
    "        return valores\n",
    "\n",
    "    def tablaHermite(self):                          #Relleno de tabla\n",
    "        valoresx = self.tables(self.x)\n",
    "        valoresy = self.tables(self.y)\n",
    "        valoresd = self.tables(self.d)\n",
    "        tabla = np.zeros(shape=(2*len(self.x),2*len(self.x)+1),dtype=Float)\n",
    "\n",
    "        for i in range(len(tabla)):\n",
    "            tabla[i][0] = valoresx[i]\n",
    "            tabla[i][1] = valoresy[i]\n",
    "        for j in range(2,len(tabla[0])):\n",
    "            if j % 2 == 0:\n",
    "                tabla[j-1][2] = valoresd[j-2]\n",
    "            else:\n",
    "                tabla[j-1][2] = (tabla[j-2][1]-tabla[j-1][1])/(tabla[j-2][0]-tabla[j-1][0])\n",
    "        for j in range(2,len(tabla)):\n",
    "            for i in range(j,len(tabla[j])-1):\n",
    "                tabla[i][j+1] = (tabla[i-1][j]-tabla[i][j])/(tabla[i-j][0]-tabla[i][0])\n",
    "        return tabla\n",
    "    \n",
    "    def polHermite(self):\n",
    "        x = Symbol(\"x\")\n",
    "        valoresx = self.tables(self.x)\n",
    "        tab = np.diag(self.tablaHermite()[0:,1:])\n",
    "        polinomio = tab[0]\n",
    "        for i in range(1,len(valoresx)):\n",
    "            factor = tab[i]\n",
    "            termino = 1\n",
    "            for j in range(i):\n",
    "                termino*=(x-valoresx[j])\n",
    "            polinomio += termino * factor\n",
    "        return polinomio.expand()\n",
    "    \n",
    "    def pli(self,i,x):                                              #Polinomio de Lagrange en el punto i (necesario para Hermite)\n",
    "        polinomio = 1\n",
    "        for j in range(len(self.x)):\n",
    "            if j != i:\n",
    "                polinomio*=((x-self.x[j])/(self.x[i]-self.x[j]))\n",
    "        return polinomio\n",
    "    \n",
    "    def derivada(self,i,x):                                             #(necesario para Hermite)\n",
    "        return diff(self.pli(i,x))\n",
    "    \n",
    "    def hermite(self):\n",
    "        x = Symbol(\"x\")\n",
    "        resultado = 0\n",
    "        for i in range(len(self.d)):\n",
    "            dl = lambdify(x,self.derivada(i,x))\n",
    "            polinomioH = (1-2*(self.a-self.x[i])*dl(self.x[i]))*(self.pli(i,self.a))**2\n",
    "            polinomioHC = (self.a-self.x[i])*(self.pli(i,self.a))**2         \n",
    "            resultado += self.y[i]*polinomioH+self.d[i]*polinomioHC\n",
    "        return resultado\n",
    "    \n",
    "    def grafica(self,metodo,f):\n",
    "        x=Symbol(\"x\")\n",
    "        metodos = {\"1\" : [\"Interpolación de Lagrange\", self.PolLagrange()], \"2\" : [\"Interpolación de Newton\", self.PolNewton()], \"3\":[\"Interpolación de Hermite\", self.polHermite()]}\n",
    "        plt.subplots(figsize = (15,10))\n",
    "        plt.grid(1)\n",
    "        \n",
    "        plt.title(metodos[metodo][0])\n",
    "        px = lambdify(x,metodos[metodo][1])\n",
    "        \n",
    "        xi = np.linspace(min(self.x),max(self.x),100)\n",
    "        fi = px(xi)\n",
    "        plt.ylabel(\"y\")\n",
    "        plt.xlabel(\"x\")\n",
    "        plt.plot(xi,fi,color = \"b\", label = \"Polinomio interpolador\")\n",
    "        plt.plot(xi,self.evaluar1(f,xi),color = \"r\", label = f\"${f}$\")\n",
    "        for i in range(len(self.x)):\n",
    "            plt.scatter(self.x[i],self.y[i],color = \"purple\", linewidths = 4)\n",
    "        plt.scatter(self.a,px(self.a),color = \"g\", label = \"Punto evaluado\")\n",
    "        plt.legend(loc = \"best\")\n",
    "        plt.show"
   ]
  },
  {
   "cell_type": "code",
   "execution_count": 12,
   "metadata": {},
   "outputs": [],
   "source": [
    "app = Metodos(xi,fi,x,d)"
   ]
  },
  {
   "cell_type": "code",
   "execution_count": 13,
   "metadata": {},
   "outputs": [
    {
     "name": "stdout",
     "output_type": "stream",
     "text": [
      "╒═════╤═════════════╤═════════╤══════════╤═══════════╤══════════╤═══════════╤═════════════╤════════════╕\n",
      "│ 0.1 │ -0.6205     │ 0       │  0       │  0        │ 0        │ 0         │  0          │ 0          │\n",
      "├─────┼─────────────┼─────────┼──────────┼───────────┼──────────┼───────────┼─────────────┼────────────┤\n",
      "│ 0.1 │ -0.6205     │ 3.58502 │  0       │  0        │ 0        │ 0         │  0          │ 0          │\n",
      "├─────┼─────────────┼─────────┼──────────┼───────────┼──────────┼───────────┼─────────────┼────────────┤\n",
      "│ 0.2 │ -0.283987   │ 3.36513 │ -2.19892 │  0        │ 0        │ 0         │  0          │ 0          │\n",
      "├─────┼─────────────┼─────────┼──────────┼───────────┼──────────┼───────────┼─────────────┼────────────┤\n",
      "│ 0.2 │ -0.283987   │ 3.14033 │ -2.24796 │ -0.490447 │ 0        │ 0         │  0          │ 0          │\n",
      "├─────┼─────────────┼─────────┼──────────┼───────────┼──────────┼───────────┼─────────────┼────────────┤\n",
      "│ 0.3 │  0.00660095 │ 2.90588 │ -2.34456 │ -0.483006 │ 0.037205 │ 0         │  0          │ 0          │\n",
      "├─────┼─────────────┼─────────┼──────────┼───────────┼──────────┼───────────┼─────────────┼────────────┤\n",
      "│ 0.3 │  0.00660095 │ 2.66668 │ -2.39196 │ -0.473946 │ 0.0453   │ 0.040475  │  0          │ 0          │\n",
      "├─────┼─────────────┼─────────┼──────────┼───────────┼──────────┼───────────┼─────────────┼────────────┤\n",
      "│ 0.4 │  0.248424   │ 2.41823 │ -2.48446 │ -0.462503 │ 0.057215 │ 0.0397167 │ -0.00252778 │ 0          │\n",
      "├─────┼─────────────┼─────────┼──────────┼───────────┼──────────┼───────────┼─────────────┼────────────┤\n",
      "│ 0.4 │  0.248424   │ 2.16529 │ -2.52941 │ -0.449491 │ 0.06506  │ 0.039225  │ -0.00163889 │ 0.00296296 │\n",
      "╘═════╧═════════════╧═════════╧══════════╧═══════════╧══════════╧═══════════╧═════════════╧════════════╛\n"
     ]
    }
   ],
   "source": [
    "print(tab(app.tablaHermite(),tablefmt=\"fancy_grid\"))"
   ]
  },
  {
   "cell_type": "code",
   "execution_count": 15,
   "metadata": {},
   "outputs": [
    {
     "name": "stdout",
     "output_type": "stream",
     "text": [
      "Valor aproximado: \n",
      "-0.1327718908476562\n",
      "Error absoluto\n",
      "3.724682645644961e-09\n"
     ]
    }
   ],
   "source": [
    "print(\"Valor aproximado: \")\n",
    "print(app.hermite())\n",
    "print(\"Error absoluto\")\n",
    "print(abs(func(x)-app.hermite()))"
   ]
  },
  {
   "cell_type": "code",
   "execution_count": null,
   "metadata": {},
   "outputs": [],
   "source": []
  }
 ],
 "metadata": {
  "colab": {
   "provenance": []
  },
  "kernelspec": {
   "display_name": "Python 3 (ipykernel)",
   "language": "python",
   "name": "python3"
  },
  "language_info": {
   "codemirror_mode": {
    "name": "ipython",
    "version": 3
   },
   "file_extension": ".py",
   "mimetype": "text/x-python",
   "name": "python",
   "nbconvert_exporter": "python",
   "pygments_lexer": "ipython3",
   "version": "3.11.0 (main, Oct 24 2022, 18:26:48) [MSC v.1933 64 bit (AMD64)]"
  },
  "vscode": {
   "interpreter": {
    "hash": "5238573367df39f7286bb46f9ff5f08f63a01a80960060ce41e3c79b190280fa"
   }
  }
 },
 "nbformat": 4,
 "nbformat_minor": 4
}
