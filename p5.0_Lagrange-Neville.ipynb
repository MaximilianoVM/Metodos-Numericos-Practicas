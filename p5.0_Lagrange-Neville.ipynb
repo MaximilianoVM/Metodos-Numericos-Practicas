{
  "cells": [
    {
      "cell_type": "markdown",
      "metadata": {
        "id": "Zy9AZKosd2Fe"
      },
      "source": [
        "<h1>Practica 5: Metodo de Lagrange y Neville</h1>\n",
        "\n",
        "<p>A continuacion, se desarrollaran los metodos de Lagrange y Neville con el lenguaje de Python, basandose en los pseudocodigos pertinentes al algoritmo de cada metodo.</p>"
      ]
    },
    {
      "cell_type": "markdown",
      "metadata": {
        "id": "5BT8rzypeyLT"
      },
      "source": [
        "<h2>////------[Metodo de Lagrange]------////</h2>"
      ]
    },
    {
      "cell_type": "code",
      "execution_count": 1,
      "metadata": {
        "id": "2jNvh47SsHHb"
      },
      "outputs": [],
      "source": [
        "import numpy as np\n",
        "\n",
        "xi = np.array([0.0, 0.1, 0.3, 0.6, 1.0, 1.1])\n",
        "fi = np.array([-6.00000, -5.89483, -5.65014, -5.17788, -4.28172, -3.99583])\n"
      ]
    },
    {
      "cell_type": "code",
      "execution_count": 2,
      "metadata": {
        "id": "mei7sOAcfOLB"
      },
      "outputs": [],
      "source": [
        "#Metodo de Lagrange (Implementacion en Python)\n",
        "import numpy as np\n",
        "\n",
        "\n",
        "def lagrange(x, y, x_valor):\n",
        "    \n",
        "    n = x.size\n",
        "    y_valor = 0\n",
        "\n",
        "    for i in range(0, n):\n",
        "        p = y[i]\n",
        "        for j in range(0, n):\n",
        "            if i != j:\n",
        "                p = p * (x_valor - x[j]) / (x[i] - x[j])\n",
        "        y_valor = y_valor + p\n",
        "\n",
        "    return [y_valor]\n"
      ]
    },
    {
      "cell_type": "code",
      "execution_count": 3,
      "metadata": {},
      "outputs": [
        {
          "data": {
            "text/plain": [
              "[-5.4931775380497045]"
            ]
          },
          "execution_count": 3,
          "metadata": {},
          "output_type": "execute_result"
        }
      ],
      "source": [
        "lagrange(xi, fi, 0.41)"
      ]
    },
    {
      "cell_type": "markdown",
      "metadata": {
        "id": "dd8XvTQ1e_Ws"
      },
      "source": [
        "<h2>////------[Metodo de Neville]------////</h2>"
      ]
    },
    {
      "cell_type": "markdown",
      "metadata": {
        "id": "tzP5GoifgrJj"
      },
      "source": [
        "**Algoritmo** Neville(x[n])\n",
        "\n",
        "1.   **Para** i = 1 **hasta** n **hacer**\n",
        "2.   &nbsp;&nbsp;&nbsp;&nbsp;**Para** j = 1 **hasta** n **hacer**\n",
        "3.   &nbsp;&nbsp;&nbsp;&nbsp;&nbsp;&nbsp;&nbsp;&nbsp;**Calcular** Q[i][j] = ((x - x[i - j])Q[i][j - 1] - (x - x[i])Q[i - 1][j - 1]) / x[i] - x[i - j]\n",
        "4.   **Retorna** Q\n",
        "\n",
        "**Fin algoritmo**"
      ]
    },
    {
      "cell_type": "code",
      "execution_count": 4,
      "metadata": {
        "id": "L47C-CXsdxyR"
      },
      "outputs": [],
      "source": [
        "#Metodo de Neville (Implementacion en Python)\n",
        "import numpy as np\n",
        "\n",
        "def neville(x, y, x_valor):\n",
        "    n = x.size\n",
        "    #define 1 como una matriz de 0s\n",
        "    q = np.zeros((n, n - 1))\n",
        "\n",
        "    # valores iniciales de y en la primera columna de la matriz\n",
        "    q = np.concatenate((y[:, None], q), axis=1)\n",
        "    \n",
        "    # operaciones\n",
        "    for i in range(1, n):\n",
        "        for j in range(1, i + 1):\n",
        "            q[i, j] = ((x_valor - x[i - j]) * q[i, j - 1] -\n",
        "                       (x_valor - x[i]) * q[i - 1, j - 1]) / (x[i] - x[i - j])\n",
        "\n",
        "    return [q]"
      ]
    },
    {
      "cell_type": "code",
      "execution_count": 5,
      "metadata": {
        "colab": {
          "base_uri": "https://localhost:8080/"
        },
        "id": "AY7TmvKeoLYi",
        "outputId": "387db1a9-cca5-4bbb-bd01-a19068f0cf4d"
      },
      "outputs": [
        {
          "data": {
            "text/plain": [
              "[array([[-6.        ,  0.        ,  0.        ,  0.        ,  0.        ,\n",
              "          0.        ],\n",
              "        [-5.89483   , -5.568803  ,  0.        ,  0.        ,  0.        ,\n",
              "          0.        ],\n",
              "        [-5.65014   , -5.5155605 , -5.49603825,  0.        ,  0.        ,\n",
              "          0.        ],\n",
              "        [-5.17788   , -5.476978  , -5.49163935, -5.49303233,  0.        ,\n",
              "          0.        ],\n",
              "        [-4.28172   , -5.603556  , -5.49686883, -5.49344061, -5.49319973,\n",
              "          0.        ],\n",
              "        [-3.99583   , -5.968471  , -5.4648883 , -5.49247151, -5.49314019,\n",
              "         -5.49317754]])]"
            ]
          },
          "execution_count": 5,
          "metadata": {},
          "output_type": "execute_result"
        }
      ],
      "source": [
        "neville(xi,fi,0.41)"
      ]
    }
  ],
  "metadata": {
    "colab": {
      "provenance": []
    },
    "kernelspec": {
      "display_name": "Python 3.11.0 64-bit",
      "language": "python",
      "name": "python3"
    },
    "language_info": {
      "codemirror_mode": {
        "name": "ipython",
        "version": 3
      },
      "file_extension": ".py",
      "mimetype": "text/x-python",
      "name": "python",
      "nbconvert_exporter": "python",
      "pygments_lexer": "ipython3",
      "version": "3.11.0 (main, Oct 24 2022, 18:26:48) [MSC v.1933 64 bit (AMD64)]"
    },
    "vscode": {
      "interpreter": {
        "hash": "5238573367df39f7286bb46f9ff5f08f63a01a80960060ce41e3c79b190280fa"
      }
    }
  },
  "nbformat": 4,
  "nbformat_minor": 0
}
